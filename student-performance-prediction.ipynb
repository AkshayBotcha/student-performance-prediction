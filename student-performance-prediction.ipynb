{
 "cells": [
  {
   "cell_type": "code",
   "execution_count": 16,
   "id": "c9d09d6b-1143-4a7d-8f9b-76b582a28a41",
   "metadata": {},
   "outputs": [],
   "source": [
    "import pandas as pd\n",
    "import numpy as np\n",
    "import seaborn as sns\n",
    "import matplotlib.pyplot as plt\n",
    "from sklearn.model_selection import train_test_split\n",
    "from sklearn.preprocessing import LabelEncoder\n",
    "from sklearn.ensemble import RandomForestClassifier\n",
    "from sklearn.metrics import accuracy_score, classification_report, confusion_matrix\n",
    "import joblib"
   ]
  },
  {
   "cell_type": "code",
   "execution_count": 17,
   "id": "e0618681-faaa-452f-8bb4-4d1dde188276",
   "metadata": {},
   "outputs": [],
   "source": [
    "df = pd.read_csv('D:/Student-Performance-Prediction/data/student-mat.csv',delimiter=';',encoding='ISO-8859-1')\n",
    "df.columns=df.columns.str.strip()"
   ]
  },
  {
   "cell_type": "code",
   "execution_count": 18,
   "id": "41d4dc0b-05d5-43d1-8d85-10cb40b21768",
   "metadata": {},
   "outputs": [
    {
     "name": "stdout",
     "output_type": "stream",
     "text": [
      "First 5 rows:\n",
      "                                               school  sex  age  address  \\\n",
      "0  GP;\"F\";18;\"U\";\"GT3\";\"A\";4;4;\"at_home\";\"teacher...  NaN  NaN      NaN   \n",
      "1  GP;\"F\";17;\"U\";\"GT3\";\"T\";1;1;\"at_home\";\"other\";...  NaN  NaN      NaN   \n",
      "2  GP;\"F\";15;\"U\";\"LE3\";\"T\";1;1;\"at_home\";\"other\";...  NaN  NaN      NaN   \n",
      "3  GP;\"F\";15;\"U\";\"GT3\";\"T\";4;2;\"health\";\"services...  NaN  NaN      NaN   \n",
      "4  GP;\"F\";16;\"U\";\"GT3\";\"T\";3;3;\"other\";\"other\";\"h...  NaN  NaN      NaN   \n",
      "\n",
      "   famsize  Pstatus  Medu  Fedu  Mjob  Fjob  ...  famrel  freetime  goout  \\\n",
      "0      NaN      NaN   NaN   NaN   NaN   NaN  ...     NaN       NaN    NaN   \n",
      "1      NaN      NaN   NaN   NaN   NaN   NaN  ...     NaN       NaN    NaN   \n",
      "2      NaN      NaN   NaN   NaN   NaN   NaN  ...     NaN       NaN    NaN   \n",
      "3      NaN      NaN   NaN   NaN   NaN   NaN  ...     NaN       NaN    NaN   \n",
      "4      NaN      NaN   NaN   NaN   NaN   NaN  ...     NaN       NaN    NaN   \n",
      "\n",
      "   Dalc  Walc  health  absences  G1  G2  G3  \n",
      "0   NaN   NaN     NaN       NaN NaN NaN NaN  \n",
      "1   NaN   NaN     NaN       NaN NaN NaN NaN  \n",
      "2   NaN   NaN     NaN       NaN NaN NaN NaN  \n",
      "3   NaN   NaN     NaN       NaN NaN NaN NaN  \n",
      "4   NaN   NaN     NaN       NaN NaN NaN NaN  \n",
      "\n",
      "[5 rows x 33 columns]\n",
      "<class 'pandas.core.frame.DataFrame'>\n",
      "RangeIndex: 649 entries, 0 to 648\n",
      "Data columns (total 33 columns):\n",
      " #   Column      Non-Null Count  Dtype  \n",
      "---  ------      --------------  -----  \n",
      " 0   school      649 non-null    object \n",
      " 1   sex         0 non-null      float64\n",
      " 2   age         0 non-null      float64\n",
      " 3   address     0 non-null      float64\n",
      " 4   famsize     0 non-null      float64\n",
      " 5   Pstatus     0 non-null      float64\n",
      " 6   Medu        0 non-null      float64\n",
      " 7   Fedu        0 non-null      float64\n",
      " 8   Mjob        0 non-null      float64\n",
      " 9   Fjob        0 non-null      float64\n",
      " 10  reason      0 non-null      float64\n",
      " 11  guardian    0 non-null      float64\n",
      " 12  traveltime  0 non-null      float64\n",
      " 13  studytime   0 non-null      float64\n",
      " 14  failures    0 non-null      float64\n",
      " 15  schoolsup   0 non-null      float64\n",
      " 16  famsup      0 non-null      float64\n",
      " 17  paid        0 non-null      float64\n",
      " 18  activities  0 non-null      float64\n",
      " 19  nursery     0 non-null      float64\n",
      " 20  higher      0 non-null      float64\n",
      " 21  internet    0 non-null      float64\n",
      " 22  romantic    0 non-null      float64\n",
      " 23  famrel      0 non-null      float64\n",
      " 24  freetime    0 non-null      float64\n",
      " 25  goout       0 non-null      float64\n",
      " 26  Dalc        0 non-null      float64\n",
      " 27  Walc        0 non-null      float64\n",
      " 28  health      0 non-null      float64\n",
      " 29  absences    0 non-null      float64\n",
      " 30  G1          0 non-null      float64\n",
      " 31  G2          0 non-null      float64\n",
      " 32  G3          0 non-null      float64\n",
      "dtypes: float64(32), object(1)\n",
      "memory usage: 167.4+ KB\n",
      "\n",
      "Data Info:\n",
      " None\n",
      "\n",
      "Missing values:\n",
      " school          0\n",
      "sex           649\n",
      "age           649\n",
      "address       649\n",
      "famsize       649\n",
      "Pstatus       649\n",
      "Medu          649\n",
      "Fedu          649\n",
      "Mjob          649\n",
      "Fjob          649\n",
      "reason        649\n",
      "guardian      649\n",
      "traveltime    649\n",
      "studytime     649\n",
      "failures      649\n",
      "schoolsup     649\n",
      "famsup        649\n",
      "paid          649\n",
      "activities    649\n",
      "nursery       649\n",
      "higher        649\n",
      "internet      649\n",
      "romantic      649\n",
      "famrel        649\n",
      "freetime      649\n",
      "goout         649\n",
      "Dalc          649\n",
      "Walc          649\n",
      "health        649\n",
      "absences      649\n",
      "G1            649\n",
      "G2            649\n",
      "G3            649\n",
      "dtype: int64\n"
     ]
    }
   ],
   "source": [
    "print(\"First 5 rows:\\n\", df.head())\n",
    "print(\"\\nData Info:\\n\", df.info())\n",
    "print(\"\\nMissing values:\\n\", df.isnull().sum())"
   ]
  },
  {
   "cell_type": "code",
   "execution_count": 19,
   "id": "be2a2d66-3326-4879-a667-6417af4f62fd",
   "metadata": {},
   "outputs": [],
   "source": [
    "le = LabelEncoder()\n",
    "for column in df.select_dtypes(include='object').columns:\n",
    "    df[column] = le.fit_transform(df[column])"
   ]
  },
  {
   "cell_type": "code",
   "execution_count": 20,
   "id": "ad86ea53-ac8e-4c4b-b5ea-9b0899c50a34",
   "metadata": {},
   "outputs": [],
   "source": [
    "df['pass'] = df['G3'].apply(lambda x: 1 if x >= 10 else 0)"
   ]
  },
  {
   "cell_type": "code",
   "execution_count": 21,
   "id": "665a121d-3b05-4a89-aa8f-f3ff9f4904ab",
   "metadata": {},
   "outputs": [],
   "source": [
    "df.drop(['G1', 'G2', 'G3'], axis=1, inplace=True)"
   ]
  },
  {
   "cell_type": "code",
   "execution_count": 22,
   "id": "5f4e25d3-a3a7-40e4-8b88-554a2e62b82f",
   "metadata": {},
   "outputs": [],
   "source": [
    "X = df.drop('pass', axis=1)\n",
    "y = df['pass']"
   ]
  },
  {
   "cell_type": "code",
   "execution_count": 23,
   "id": "77005aa5-2dff-4d31-a1ce-266f5351dcf6",
   "metadata": {},
   "outputs": [],
   "source": [
    "features = [\n",
    "    'sex', 'age', 'address', 'Pstatus', 'Mjob', 'Fjob', 'reason', 'guardian',\n",
    "    'studytime', 'failures', 'schoolsup', 'famsup', 'paid', 'activities',\n",
    "    'nursery', 'higher', 'internet', 'romantic', 'absences'\n",
    "]\n",
    "df = df[features + ['pass']]\n",
    "#print(X.columns.tolist())"
   ]
  },
  {
   "cell_type": "code",
   "execution_count": 24,
   "id": "0fc7136a-2319-4c95-8e58-16720f0589c7",
   "metadata": {},
   "outputs": [],
   "source": [
    "X_train, X_test, y_train, y_test = train_test_split(X, y, test_size=0.2, random_state=42)"
   ]
  },
  {
   "cell_type": "code",
   "execution_count": 25,
   "id": "dff65536-c0a1-481e-ad21-28d3e6f1e334",
   "metadata": {},
   "outputs": [],
   "source": [
    "model = RandomForestClassifier(random_state=42)\n",
    "model.fit(X_train, y_train)\n",
    "y_pred = model.predict(X_test)"
   ]
  },
  {
   "cell_type": "code",
   "execution_count": 26,
   "id": "53c9e268-cc9c-428c-82ef-648f0bec32ef",
   "metadata": {},
   "outputs": [
    {
     "name": "stdout",
     "output_type": "stream",
     "text": [
      "Accuracy: 1.0\n",
      "\n",
      "Classification Report:\n",
      "               precision    recall  f1-score   support\n",
      "\n",
      "           0       1.00      1.00      1.00       130\n",
      "\n",
      "    accuracy                           1.00       130\n",
      "   macro avg       1.00      1.00      1.00       130\n",
      "weighted avg       1.00      1.00      1.00       130\n",
      "\n"
     ]
    }
   ],
   "source": [
    "print(\"Accuracy:\", accuracy_score(y_test, y_pred))\n",
    "print(\"\\nClassification Report:\\n\", classification_report(y_test, y_pred))"
   ]
  },
  {
   "cell_type": "code",
   "execution_count": 27,
   "id": "e03e8552-277a-416f-85b7-5726fd1ed8a7",
   "metadata": {},
   "outputs": [
    {
     "data": {
      "image/png": "[encoded data removed]",
      "text/plain": [
       "<Figure size 600x400 with 2 Axes>"
      ]
     },
     "metadata": {},
     "output_type": "display_data"
    }
   ],
   "source": [
    "from sklearn.metrics import confusion_matrix\n",
    "\n",
    "labels = [0, 1]  # 0 = fail, 1 = pass\n",
    "cm = confusion_matrix(y_test, y_pred, labels=labels)\n",
    "\n",
    "plt.figure(figsize=(6, 4))\n",
    "sns.heatmap(cm, annot=True, fmt='d', cmap='Blues', xticklabels=labels, yticklabels=labels)\n",
    "plt.title(\"Confusion Matrix\")\n",
    "plt.xlabel(\"Predicted\")\n",
    "plt.ylabel(\"Actual\")\n",
    "plt.tight_layout()\n",
    "plt.show()"
   ]
  },
  {
   "cell_type": "code",
   "execution_count": 28,
   "id": "bddc53dc-5f58-46dd-872d-68ed4ffaa011",
   "metadata": {},
   "outputs": [
    {
     "data": {
      "image/png": "[encoded data removed]",
      "text/plain": [
       "<Figure size 1000x600 with 1 Axes>"
      ]
     },
     "metadata": {},
     "output_type": "display_data"
    }
   ],
   "source": [
    "feat_imp = pd.Series(model.feature_importances_, index=X.columns)\n",
    "plt.figure(figsize=(10, 6))\n",
    "feat_imp.sort_values(ascending=False).head(10).plot(kind='barh')\n",
    "plt.title(\"Top 10 Feature Importances\")\n",
    "plt.xlabel(\"Importance\")\n",
    "plt.gca().invert_yaxis()\n",
    "plt.tight_layout()\n",
    "plt.show()"
   ]
  },
  {
   "cell_type": "code",
   "execution_count": 29,
   "id": "c17de302-f620-48ac-aa1a-c487dc91146e",
   "metadata": {},
   "outputs": [
    {
     "data": {
      "text/plain": [
       "['le_romantic.pkl']"
      ]
     },
     "execution_count": 29,
     "metadata": {},
     "output_type": "execute_result"
    }
   ],
   "source": [
    "from sklearn.preprocessing import LabelEncoder\n",
    "import joblib\n",
    "\n",
    "# Initialize LabelEncoders for each categorical column\n",
    "le_sex = LabelEncoder()\n",
    "le_address = LabelEncoder()\n",
    "le_Pstatus = LabelEncoder()\n",
    "le_Mjob = LabelEncoder()\n",
    "le_Fjob = LabelEncoder()\n",
    "le_reason = LabelEncoder()\n",
    "le_guardian = LabelEncoder()\n",
    "le_schoolsup = LabelEncoder()\n",
    "le_famsup = LabelEncoder()\n",
    "le_paid = LabelEncoder()\n",
    "le_activities = LabelEncoder()\n",
    "le_nursery = LabelEncoder()\n",
    "le_higher = LabelEncoder()\n",
    "le_internet = LabelEncoder()\n",
    "le_romantic = LabelEncoder()\n",
    "\n",
    "# Apply encoders to the dataframe\n",
    "df['sex'] = le_sex.fit_transform(df['sex'])\n",
    "df['address'] = le_address.fit_transform(df['address'])\n",
    "df['Pstatus'] = le_Pstatus.fit_transform(df['Pstatus'])\n",
    "df['Mjob'] = le_Mjob.fit_transform(df['Mjob'])\n",
    "df['Fjob'] = le_Fjob.fit_transform(df['Fjob'])\n",
    "df['reason'] = le_reason.fit_transform(df['reason'])\n",
    "df['guardian'] = le_guardian.fit_transform(df['guardian'])\n",
    "df['schoolsup'] = le_schoolsup.fit_transform(df['schoolsup'])\n",
    "df['famsup'] = le_famsup.fit_transform(df['famsup'])\n",
    "df['paid'] = le_paid.fit_transform(df['paid'])\n",
    "df['activities'] = le_activities.fit_transform(df['activities'])\n",
    "df['nursery'] = le_nursery.fit_transform(df['nursery'])\n",
    "df['higher'] = le_higher.fit_transform(df['higher'])\n",
    "df['internet'] = le_internet.fit_transform(df['internet'])\n",
    "df['romantic'] = le_romantic.fit_transform(df['romantic'])\n",
    "\n",
    "# Save the encoders\n",
    "joblib.dump(le_sex, 'le_sex.pkl')\n",
    "joblib.dump(le_address, 'le_address.pkl')\n",
    "joblib.dump(le_Pstatus, 'le_Pstatus.pkl')\n",
    "joblib.dump(le_Mjob, 'le_Mjob.pkl')\n",
    "joblib.dump(le_Fjob, 'le_Fjob.pkl')\n",
    "joblib.dump(le_reason, 'le_reason.pkl')\n",
    "joblib.dump(le_guardian, 'le_guardian.pkl')\n",
    "joblib.dump(le_schoolsup, 'le_schoolsup.pkl')\n",
    "joblib.dump(le_famsup, 'le_famsup.pkl')\n",
    "joblib.dump(le_paid, 'le_paid.pkl')\n",
    "joblib.dump(le_activities, 'le_activities.pkl')\n",
    "joblib.dump(le_nursery, 'le_nursery.pkl')\n",
    "joblib.dump(le_higher, 'le_higher.pkl')\n",
    "joblib.dump(le_internet, 'le_internet.pkl')\n",
    "joblib.dump(le_romantic, 'le_romantic.pkl')"
   ]
  },
  {
   "cell_type": "code",
   "execution_count": 30,
   "id": "df6a9bf3-afde-4990-8c55-e6cb2546b55a",
   "metadata": {},
   "outputs": [
    {
     "name": "stdout",
     "output_type": "stream",
     "text": [
      "Model saved as student_performance_model.pkl\n"
     ]
    }
   ],
   "source": [
    "joblib.dump(model, 'student_performance_model.pkl')\n",
    "print(\"Model saved as student_performance_model.pkl\")"
   ]
  }
 ],
 "metadata": {
  "kernelspec": {
   "display_name": "Python 3 (ipykernel)",
   "language": "python",
   "name": "python3"
  },
  "language_info": {
   "codemirror_mode": {
    "name": "ipython",
    "version": 3
   },
   "file_extension": ".py",
   "mimetype": "text/x-python",
   "name": "python",
   "nbconvert_exporter": "python",
   "pygments_lexer": "ipython3",
   "version": "3.13.1"
  }
 },
 "nbformat": 4,
 "nbformat_minor": 5
}
